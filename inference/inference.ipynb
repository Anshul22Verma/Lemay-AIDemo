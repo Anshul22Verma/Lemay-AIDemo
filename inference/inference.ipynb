{
 "cells": [
  {
   "cell_type": "markdown",
   "id": "778fd0e0",
   "metadata": {},
   "source": [
    "# HuggingFace Inference using a Server"
   ]
  },
  {
   "cell_type": "code",
   "execution_count": 1,
   "id": "08b41dd1",
   "metadata": {},
   "outputs": [],
   "source": [
    "import os"
   ]
  },
  {
   "cell_type": "markdown",
   "id": "0e0eb5d8",
   "metadata": {},
   "source": [
    "## sanity sheck to make sure that the server is reachable"
   ]
  },
  {
   "cell_type": "code",
   "execution_count": 3,
   "id": "5e4a7597",
   "metadata": {},
   "outputs": [
    {
     "name": "stdout",
     "output_type": "stream",
     "text": [
      "{\"message\":\"Lemay-AI Demo\"}"
     ]
    },
    {
     "name": "stderr",
     "output_type": "stream",
     "text": [
      "  % Total    % Received % Xferd  Average Speed   Time    Time     Time  Current\n",
      "                                 Dload  Upload   Total   Spent    Left  Speed\n",
      "\r\n",
      "  0     0    0     0    0     0      0      0 --:--:-- --:--:-- --:--:--     0\r\n",
      "100    27  100    27    0     0    168      0 --:--:-- --:--:-- --:--:--   168\n"
     ]
    },
    {
     "data": {
      "text/plain": [
       "0"
      ]
     },
     "execution_count": 3,
     "metadata": {},
     "output_type": "execute_result"
    }
   ],
   "source": [
    "os.system('curl http://54.90.166.57:80/')"
   ]
  },
  {
   "cell_type": "markdown",
   "id": "c37ef1ec",
   "metadata": {},
   "source": [
    "## checking with the payload"
   ]
  },
  {
   "cell_type": "code",
   "execution_count": 4,
   "id": "0856c376",
   "metadata": {},
   "outputs": [
    {
     "name": "stderr",
     "output_type": "stream",
     "text": [
      "  % Total    % Received % Xferd  Average Speed   Time    Time     Time  Current\n",
      "                                 Dload  Upload   Total   Spent    Left  Speed\n",
      "\r\n",
      "  0     0    0     0    0     0      0      0 --:--:-- --:--:-- --:--:--     0"
     ]
    },
    {
     "name": "stdout",
     "output_type": "stream",
     "text": [
      "{\"question\":\"To whom did the Virgin Mary allegedly appear in 1858 in Lourdes France?\",\"answer\":{\"score\":0.9958962798118591,\"start\":515,\"end\":541,\"answer\":\"Saint Bernadette Soubirous\"},\"prediction_time\":\"0 seconds\",\"device\":\"cpu\"}"
     ]
    },
    {
     "name": "stderr",
     "output_type": "stream",
     "text": [
      "\r\n",
      "100  1033  100   229  100   804    962   3377 --:--:-- --:--:-- --:--:--  3392\n"
     ]
    },
    {
     "data": {
      "text/plain": [
       "0"
      ]
     },
     "execution_count": 4,
     "metadata": {},
     "output_type": "execute_result"
    }
   ],
   "source": [
    "os.system('curl -X POST http://54.90.166.57:80/answer -H \"Content-Type: application/json\" -d @payload.json')"
   ]
  },
  {
   "cell_type": "code",
   "execution_count": 5,
   "id": "044e5d7e",
   "metadata": {},
   "outputs": [],
   "source": [
    "# END"
   ]
  }
 ],
 "metadata": {
  "kernelspec": {
   "display_name": "Python 3.10.6 64-bit",
   "language": "python",
   "name": "python3"
  },
  "language_info": {
   "codemirror_mode": {
    "name": "ipython",
    "version": 3
   },
   "file_extension": ".py",
   "mimetype": "text/x-python",
   "name": "python",
   "nbconvert_exporter": "python",
   "pygments_lexer": "ipython3",
   "version": "3.10.6"
  },
  "vscode": {
   "interpreter": {
    "hash": "aee8b7b246df8f9039afb4144a1f6fd8d2ca17a180786b69acc140d282b71a49"
   }
  }
 },
 "nbformat": 4,
 "nbformat_minor": 5
}
